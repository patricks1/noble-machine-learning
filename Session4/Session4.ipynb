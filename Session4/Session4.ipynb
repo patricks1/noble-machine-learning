{
 "cells": [
  {
   "cell_type": "markdown",
   "metadata": {},
   "source": [
    "# Python for Machine Learning\n",
    "\n",
    "### *Session \\#4*\n",
    "\n",
    "\n",
    "### Helpful shortcuts\n",
    "---\n",
    "\n",
    "**SHIFT** + **ENTER** ----> Execute Cell\n",
    "\n",
    "**UP/DOWN ARROWS** --> Move cursor between cells (then ENTER to start typing)\n",
    "\n",
    "**TAB** ----> See autocomplete options\n",
    "\n",
    "**ESC** then **b** ----> Create Cell \n",
    "\n",
    "**ESC** then **dd** ----> Delete Cell\n",
    "\n",
    "**\\[python expression\\]?** ---> Explanation of that Python expression\n",
    "\n",
    "**ESC** then **m** then __ENTER__ ----> Switch to Markdown mode"
   ]
  },
  {
   "cell_type": "markdown",
   "metadata": {},
   "source": [
    "## I. Logistic Regression"
   ]
  },
  {
   "cell_type": "markdown",
   "metadata": {},
   "source": [
    "### Warm Ups\n",
    "\n",
    "*Type the given code into the cell below*\n",
    "\n",
    "---"
   ]
  },
  {
   "cell_type": "code",
   "execution_count": null,
   "metadata": {},
   "outputs": [],
   "source": [
    "from warnings import simplefilter\n",
    "simplefilter(action='ignore', category=FutureWarning)\n",
    "\n",
    "from matplotlib import pyplot as plt\n",
    "\n",
    "import pandas as pd\n",
    "import numpy as np\n",
    "from sklearn.preprocessing import scale\n",
    "from sklearn.linear_model import LogisticRegression\n",
    "from sklearn.model_selection import train_test_split\n",
    "from sklearn.neighbors import KNeighborsClassifier\n",
    "\n",
    "from yellowbrick.classifier import ConfusionMatrix, ClassPredictionError, \\\n",
    "                                   ROCAUC, PrecisionRecallCurve\n",
    "from yellowbrick.target import class_balance\n",
    "\n",
    "from imblearn.pipeline import make_pipeline\n",
    "from imblearn.over_sampling import RandomOverSampler"
   ]
  },
  {
   "cell_type": "code",
   "execution_count": null,
   "metadata": {},
   "outputs": [],
   "source": [
    "df = pd.read_csv(\n",
    "    'https://raw.githubusercontent.com/patricks1/'\n",
    "    'noble-machine-learning/master/Session4/heart_attack.csv'\n",
    ")"
   ]
  },
  {
   "cell_type": "code",
   "execution_count": null,
   "metadata": {},
   "outputs": [],
   "source": [
    "def assign_tts(df, model, tgt_txt, features='all', state=None):\n",
    "    if features == 'all':\n",
    "        X=df.drop(columns=[tgt_txt])\n",
    "    elif isinstance(features, list):\n",
    "        X=df[features]\n",
    "    else:\n",
    "        raise ValueError('Features should either be \\'all\\' or a list')\n",
    "    y=df[tgt_txt]\n",
    "    tts = train_test_split(X,y, random_state=state)\n",
    "    model.X_train = tts[0]\n",
    "    model.X_test = tts[1]\n",
    "    model.y_train = tts[2]\n",
    "    model.y_test = tts[3]\n",
    "    return None\n",
    "def std_fit(model):\n",
    "    model.fit(model.X_train, model.y_train)\n",
    "    return None\n",
    "def std_predict(model):\n",
    "    return model.predict(model.X_test)\n",
    "def std_score(model):\n",
    "    return model.score(model.X_test, model.y_test)"
   ]
  },
  {
   "cell_type": "markdown",
   "metadata": {},
   "source": [
    "**Create and fit classifier**:"
   ]
  },
  {
   "cell_type": "code",
   "execution_count": null,
   "metadata": {},
   "outputs": [],
   "source": [
    "modelI = LogisticRegression()\n",
    "assign_tts(df, modelI, 'heart_attack', features=['sys_bp'], state=1)\n",
    "std_fit(modelI)"
   ]
  },
  {
   "cell_type": "markdown",
   "metadata": {},
   "source": [
    "**Use model to classify**:"
   ]
  },
  {
   "cell_type": "code",
   "execution_count": null,
   "metadata": {
    "tags": []
   },
   "outputs": [],
   "source": [
    "print('number of predicted heart attacks: {0:0.0f}\\n' \\\n",
    "      .format(std_predict(modelI).sum()))\n",
    "display(std_predict(modelI))"
   ]
  },
  {
   "cell_type": "markdown",
   "metadata": {},
   "source": [
    "**Use model to get probabilities**: `model.predict_proba(X_test)`"
   ]
  },
  {
   "cell_type": "code",
   "execution_count": null,
   "metadata": {},
   "outputs": [],
   "source": [
    "modelI.predict_proba(modelI.X_test)"
   ]
  },
  {
   "cell_type": "markdown",
   "metadata": {},
   "source": [
    "### Exercises\n",
    "---\n",
    "**Use the following `x` and `y` variables in your analysis for this section.**"
   ]
  },
  {
   "cell_type": "code",
   "execution_count": null,
   "metadata": {},
   "outputs": [],
   "source": [
    "x = modelI.X_test['sys_bp']\n",
    "y = modelI.y_test"
   ]
  },
  {
   "cell_type": "markdown",
   "metadata": {},
   "source": [
    "**1. Calculate the log odds of someone having a heart attack based on systolic blood pressure assuming the equation for log odds has a slope of 0.01 and an intercept of -1** "
   ]
  },
  {
   "cell_type": "code",
   "execution_count": null,
   "metadata": {
    "tags": []
   },
   "outputs": [],
   "source": []
  },
  {
   "cell_type": "markdown",
   "metadata": {},
   "source": [
    "**2. Now convert those log odds into probabilities of having a heart attack.**"
   ]
  },
  {
   "cell_type": "code",
   "execution_count": null,
   "metadata": {
    "tags": []
   },
   "outputs": [],
   "source": []
  },
  {
   "cell_type": "markdown",
   "metadata": {},
   "source": [
    "**3. For people who had a heart attack, the log likelihood of the data (i.e. having a heart attack) given our model is the log probabilty. For people who did not have a heart attack, the log likelihood of the data (i.e. not having a heart attack) given our model is log(1 - the probability).**\n",
    "\\begin{equation}\n",
    "\\log\\mathcal{L} = \n",
    "\\begin{cases} \n",
    "\\log p(\\mathrm{heart\\ attack}) & \\text{if } \\mathrm{heart\\ attack}=1 \\\\\n",
    "\\log(1-p(\\mathrm{heart\\ attack})) & \\text{if } \\mathrm{heart\\ attack}=0 \n",
    "\\end{cases}\n",
    "\\end{equation}\n",
    "\n",
    "- **Create an array of log likelihoods based on the logic above.**  \n",
    "(You can use `np.log` to find logs.)\n",
    "- **Sum the individual log likelihoods to find the total log likelihood of the data given our model.**"
   ]
  },
  {
   "cell_type": "code",
   "execution_count": null,
   "metadata": {
    "tags": []
   },
   "outputs": [],
   "source": []
  },
  {
   "cell_type": "markdown",
   "metadata": {},
   "source": [
    "**4. Put your work from Exercises 1-3 into a function that takes a `coef` and `intercept` as arguments.** \n",
    "\n",
    "- Assume that anyone with a probability of a heart attack greater than 0.5 does have one. \n",
    "- Build on what you have by calculating your model's recall, which is the percentage of heart attacks that you correctly predicted. It is calculated as follows.  \n",
    "$\\mathrm{Recall = \\dfrac{true\\ positives}{true\\ positives + false\\ negatives}}$  \n",
    "\n",
    "(A \"positive\" is a heart attack. A \"negative\" is no heart attack.)\n",
    "\n",
    "- Also have your function calculate your model's accuracy, which is the percentage of predictions it got right.  \n",
    "(Hint: You can turn a `pd.Series` of booleans into integers with `series.astype(int)`.)"
   ]
  },
  {
   "cell_type": "code",
   "execution_count": null,
   "metadata": {
    "tags": []
   },
   "outputs": [],
   "source": [
    "def evaluate(coef, intercept):\n",
    "    x = modelI.X_test['sys_bp']\n",
    "    y = modelI.y_test\n",
    "    \n",
    "    # Your code here"
   ]
  },
  {
   "cell_type": "markdown",
   "metadata": {},
   "source": [
    "**5. Now add to your function so that it plots the systolic blood pressure data and the heart attack data along with your predicted probabilities.**"
   ]
  },
  {
   "cell_type": "code",
   "execution_count": null,
   "metadata": {
    "tags": []
   },
   "outputs": [],
   "source": [
    "def evaluate(coef, intercept):\n",
    "    x = modelI.X_test['sys_bp']\n",
    "    y = modelI.y_test\n",
    "    \n",
    "    # Your code here"
   ]
  },
  {
   "cell_type": "markdown",
   "metadata": {},
   "source": [
    "**6. Make adjustments to your slope and intercept to try and manually maximize the log likelihood.**"
   ]
  },
  {
   "cell_type": "code",
   "execution_count": null,
   "metadata": {
    "tags": []
   },
   "outputs": [],
   "source": []
  },
  {
   "cell_type": "markdown",
   "metadata": {},
   "source": [
    "**7. Now give your function the best possible coefficient and intercept that** `sklearn` **found when we ran the logistic regression fit for** `modelI` **in the warmups.**  \n",
    "Remember that the model's `coef_` is a 2D numpy array. The two-dimensional nature of the `coef_` will probably cause problems for you unless you deal with that somehow."
   ]
  },
  {
   "cell_type": "code",
   "execution_count": null,
   "metadata": {
    "tags": []
   },
   "outputs": [],
   "source": []
  },
  {
   "cell_type": "markdown",
   "metadata": {},
   "source": [
    "## II. ROC Curves and Class Imbalance"
   ]
  },
  {
   "cell_type": "markdown",
   "metadata": {},
   "source": [
    "### Warm Ups\n",
    "\n",
    "*Type the given code into the cell below*\n",
    "\n",
    "---"
   ]
  },
  {
   "cell_type": "markdown",
   "metadata": {},
   "source": [
    "**Create and fit classifier**: \n",
    "```python\n",
    "model_roc = ROCAUC(model)\n",
    "model_roc.fit(X_train, y_train)\n",
    "model_roc.score(X_test, y_test)\n",
    "model_roc.show()\n",
    "```"
   ]
  },
  {
   "cell_type": "code",
   "execution_count": null,
   "metadata": {},
   "outputs": [],
   "source": [
    "model_rocIIw = ROCAUC(modelI)\n",
    "std_fit(model_rocIIw)\n",
    "std_score(model_rocIIw)\n",
    "model_rocIIw.show()\n",
    "\n",
    "#micro-avg: (tp0 + tp1) / (tp0 + tp1 + fn0 + fn1)\n",
    "#macro-avg: [tp0 / (tp0 + fp0) + tp1 / (tp1 + fp1)] / 2"
   ]
  },
  {
   "cell_type": "markdown",
   "metadata": {},
   "source": [
    "**Create ClassBalance visualization:**"
   ]
  },
  {
   "cell_type": "code",
   "execution_count": null,
   "metadata": {
    "tags": []
   },
   "outputs": [],
   "source": [
    "class_balance(df['heart_attack'])"
   ]
  },
  {
   "cell_type": "markdown",
   "metadata": {},
   "source": [
    "**Plot the Precision Recall Curve**: "
   ]
  },
  {
   "cell_type": "code",
   "execution_count": null,
   "metadata": {
    "tags": []
   },
   "outputs": [],
   "source": [
    "model_prc = PrecisionRecallCurve(modelI)\n",
    "assign_tts(df, model_prc, 'heart_attack', features=['sys_bp'], state=1)\n",
    "model_prc.fit(model_prc.X_train, model_prc.y_train)\n",
    "model_prc.score(model_prc.X_test, model_prc.y_test)\n",
    "model_prc.show()\n",
    "plt.show()"
   ]
  },
  {
   "cell_type": "markdown",
   "metadata": {},
   "source": [
    "### Exercises\n",
    "---\n",
    "\n",
    "**1. Interpret the ROC curve below. What is the highest sensitivity we can reach while keeping false positives under 20% (ie. specificity > 0.8)?**\n",
    "\n",
    "**If we care about both classes equally, what sensitivity and specificity should we choose?**\n",
    "\n",
    "![image.png](../images/roc.png)"
   ]
  },
  {
   "cell_type": "markdown",
   "metadata": {},
   "source": [
    "**2. If you were creating a machine learning model to catch credit card fraud, would you use an ROC curve or a precision-recall curve?**"
   ]
  },
  {
   "cell_type": "code",
   "execution_count": null,
   "metadata": {},
   "outputs": [],
   "source": []
  },
  {
   "cell_type": "markdown",
   "metadata": {},
   "source": [
    "**3. Train and plot an ROC curve with a** `KNeighborsClassifier` **model and a** `LogisticRegression` **model. Which model performs better with this data, according to the AUC?** \n",
    "\n",
    "Hint: To help deal with limited data, you may need to pass `max_iter=10000` when creating your LogisticRegression model"
   ]
  },
  {
   "cell_type": "code",
   "execution_count": null,
   "metadata": {},
   "outputs": [],
   "source": []
  },
  {
   "cell_type": "markdown",
   "metadata": {},
   "source": [
    "**4. Do the same thing but replace the** `ROCAUC` **visualizers with** `PrecisionRecallCurve` **visualizers and rerun to get a minority-class focused view on performance.**"
   ]
  },
  {
   "cell_type": "code",
   "execution_count": null,
   "metadata": {},
   "outputs": [],
   "source": []
  },
  {
   "cell_type": "markdown",
   "metadata": {},
   "source": [
    "**5. Let's examine more severe class imbalance.**\n",
    "\n",
    "**Run the code below to drop most of the positive cases, then split the data into X and y again**\n",
    "\n",
    "**Create a** `class_balance` **visualization to verify that the classes are now very imbalanced.**"
   ]
  },
  {
   "cell_type": "code",
   "execution_count": null,
   "metadata": {},
   "outputs": [],
   "source": [
    "df_drop = df.drop(df.query('heart_attack == 1').sample(n=400).index)\n",
    "\n",
    "# Add your code down here"
   ]
  },
  {
   "cell_type": "markdown",
   "metadata": {},
   "source": [
    "**6. Rewrite and run code similar to that which you wrote for Question 3, but this time use `df_drop` as your data source. Which model's performance has suffered more? Why?**\n",
    "\n",
    "Hint: To help deal with limited data, you may need to pass `max_iter=10000` when creating your LogisticRegression model"
   ]
  },
  {
   "cell_type": "code",
   "execution_count": null,
   "metadata": {},
   "outputs": [],
   "source": []
  },
  {
   "cell_type": "markdown",
   "metadata": {},
   "source": [
    "**7. Do the same thing but replace the** `ROCAUC` **visualizers with** `PrecisionRecallCurve` **visualizers and rerun to get a minority-class focused view on performance.**"
   ]
  },
  {
   "cell_type": "code",
   "execution_count": null,
   "metadata": {},
   "outputs": [],
   "source": []
  },
  {
   "cell_type": "markdown",
   "metadata": {},
   "source": [
    "## III. Stratified Sampling and Oversampling"
   ]
  },
  {
   "cell_type": "markdown",
   "metadata": {},
   "source": [
    "### Warm Ups\n",
    "\n",
    "*Type the given code into the cell below*\n",
    "\n",
    "---"
   ]
  },
  {
   "cell_type": "markdown",
   "metadata": {},
   "source": [
    "**Use stratified sampling:**\n",
    "```python\n",
    "X_train, X_test, y_train, y_test = train_test_split(X, y, stratify=y)\n",
    "```"
   ]
  },
  {
   "cell_type": "code",
   "execution_count": null,
   "metadata": {},
   "outputs": [],
   "source": []
  },
  {
   "cell_type": "markdown",
   "metadata": {},
   "source": [
    "**Use RandomOverSampler to balance data:**\n",
    "```python\n",
    "sampler = RandomOverSampler()\n",
    "sampler.fit_resample(X_train, y_train)\n",
    "```"
   ]
  },
  {
   "cell_type": "code",
   "execution_count": null,
   "metadata": {},
   "outputs": [],
   "source": []
  },
  {
   "cell_type": "markdown",
   "metadata": {},
   "source": [
    "**Use RandomOverSampler in pipeline:**\n",
    "```python\n",
    "model = make_pipeline(RandomOverSampler(), LogisticRegression())\n",
    "```"
   ]
  },
  {
   "cell_type": "code",
   "execution_count": null,
   "metadata": {},
   "outputs": [],
   "source": []
  },
  {
   "cell_type": "markdown",
   "metadata": {},
   "source": [
    "### Exercises\n",
    "---\n",
    "\n",
    "**1. Inside the for-loop, call** `train_test_split()` **WITHOUT the stratify parameter**\n",
    "\n",
    "**Then within the for-loop call** `y_test.sum()` **to count the number of positive cases.**\n",
    "\n",
    "**Rerun with the stratify parameter set to** `y`"
   ]
  },
  {
   "cell_type": "code",
   "execution_count": null,
   "metadata": {
    "tags": [
     "skip-execution"
    ]
   },
   "outputs": [],
   "source": [
    "for i in range(10):\n",
    "    \n",
    "    # Add your code here"
   ]
  },
  {
   "cell_type": "markdown",
   "metadata": {},
   "source": [
    "**2. Create a** `RandomOverSampler()` **and use .fit_resample() on X_train and y_train**\n",
    "\n",
    "**This will return two arrays -- the rebalanced versions of** `X_train` **and** `y_train` \n",
    "\n",
    "**Take the mean of the new rebalanced** `y_train` **to show that it's balanced**"
   ]
  },
  {
   "cell_type": "code",
   "execution_count": null,
   "metadata": {},
   "outputs": [],
   "source": []
  },
  {
   "cell_type": "markdown",
   "metadata": {},
   "source": [
    "**3. Fit a** `LogisticRegression()` **model to the training data, and use it to plot a ConfusionMatrix**\n",
    "\n",
    "**What is the accuracy and sensitivity of the model?**"
   ]
  },
  {
   "cell_type": "code",
   "execution_count": null,
   "metadata": {},
   "outputs": [],
   "source": []
  },
  {
   "cell_type": "markdown",
   "metadata": {},
   "source": [
    "**4. Create a pipeline with a** `RandomOverSampler` **and** `LogisticRegression()` **and fit it to the training data**\n",
    "\n",
    "**What is the accuracy and sensitivity of the new model?**"
   ]
  },
  {
   "cell_type": "code",
   "execution_count": null,
   "metadata": {},
   "outputs": [],
   "source": []
  }
 ],
 "metadata": {
  "kernelspec": {
   "display_name": "Python 3 (ipykernel)",
   "language": "python",
   "name": "python3"
  },
  "language_info": {
   "codemirror_mode": {
    "name": "ipython",
    "version": 3
   },
   "file_extension": ".py",
   "mimetype": "text/x-python",
   "name": "python",
   "nbconvert_exporter": "python",
   "pygments_lexer": "ipython3",
   "version": "3.10.11"
  }
 },
 "nbformat": 4,
 "nbformat_minor": 4
}
