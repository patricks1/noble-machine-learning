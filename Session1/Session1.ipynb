{
 "cells": [
  {
   "cell_type": "markdown",
   "metadata": {},
   "source": [
    "# Python for Machine Learning\n",
    "\n",
    "### *Session \\#1*\n",
    "\n",
    "\n",
    "### Helpful shortcuts\n",
    "---\n",
    "\n",
    "**SHIFT** + **ENTER** ----> Execute Cell\n",
    "\n",
    "**UP/DOWN ARROWS** --> Move cursor between cells (then ENTER to start typing)\n",
    "\n",
    "**TAB** ----> See autocomplete options\n",
    "\n",
    "**ESC** then **b** ----> Create Cell \n",
    "\n",
    "**ESC** then **dd** ----> Delete Cell\n",
    "\n",
    "**\\[python expression\\]?** ---> Explanation of that Python expression\n",
    "\n",
    "**ESC** then **m** then __ENTER__ ----> Switch to Markdown mode"
   ]
  },
  {
   "cell_type": "markdown",
   "metadata": {},
   "source": [
    "# 0. Setup"
   ]
  },
  {
   "cell_type": "code",
   "execution_count": null,
   "metadata": {},
   "outputs": [],
   "source": [
    "#%conda install -c districtdatalabs yellowbrick\n",
    "#%conda install -c conda-forge imbalanced-learn\n",
    "#%conda install -c conda-forge tweepy"
   ]
  },
  {
   "cell_type": "markdown",
   "metadata": {},
   "source": [
    "## I. Preparing Data"
   ]
  },
  {
   "cell_type": "markdown",
   "metadata": {},
   "source": [
    "### Warm Ups\n",
    "\n",
    "*Type the given code into the cell below*\n",
    "\n",
    "---\n",
    "\n",
    "**Import pandas and read CSV**: "
   ]
  },
  {
   "cell_type": "code",
   "execution_count": null,
   "metadata": {
    "tags": []
   },
   "outputs": [],
   "source": [
    "import pandas as pd\n",
    "df = pd.read_csv(\n",
    "    'https://raw.githubusercontent.com/patricks1/'\n",
    "    'noble-machine-learning/master/Session1/heart_attack.csv'\n",
    ")"
   ]
  },
  {
   "cell_type": "markdown",
   "metadata": {},
   "source": [
    "**Set target vector:**"
   ]
  },
  {
   "cell_type": "code",
   "execution_count": null,
   "metadata": {
    "tags": []
   },
   "outputs": [],
   "source": [
    "y_Iw = df['current_smoker']"
   ]
  },
  {
   "cell_type": "markdown",
   "metadata": {},
   "source": [
    "**Set feature matrix**"
   ]
  },
  {
   "cell_type": "code",
   "execution_count": null,
   "metadata": {
    "tags": []
   },
   "outputs": [],
   "source": [
    "columns_Iw = ['bp_meds', 'education']\n",
    "X_Iw = df[columns_Iw]"
   ]
  },
  {
   "cell_type": "markdown",
   "metadata": {},
   "source": [
    "**Drop column:**\n",
    "\n",
    "*Note: You can drop multiple columns at once, by using a list of column names*"
   ]
  },
  {
   "cell_type": "code",
   "execution_count": null,
   "metadata": {
    "tags": []
   },
   "outputs": [],
   "source": [
    "df.drop(columns=['heart_attack'])"
   ]
  },
  {
   "cell_type": "markdown",
   "metadata": {},
   "source": [
    "**Split data into train/test sets:**\n",
    "\n",
    "*Note: Default split is 0.75 train, 0.25 test. Can change proportion using* `test_size` *parameter*"
   ]
  },
  {
   "cell_type": "code",
   "execution_count": null,
   "metadata": {
    "tags": []
   },
   "outputs": [],
   "source": [
    "from sklearn.model_selection import train_test_split\n",
    "X_train_Iw, X_test_Iw, y_train_Iw, y_test_Iw = train_test_split(X_Iw, y_Iw)"
   ]
  },
  {
   "cell_type": "markdown",
   "metadata": {},
   "source": [
    "### Exercises\n",
    "---\n",
    "\n",
    "**1. Create the feature matrix** `X_I1` **by forming a dataframe from the columns** `male, current_smoker` **and**   `education` "
   ]
  },
  {
   "cell_type": "code",
   "execution_count": null,
   "metadata": {},
   "outputs": [],
   "source": []
  },
  {
   "cell_type": "markdown",
   "metadata": {},
   "source": [
    "**2. Now create the feature matrix** `X_I2` **by instead just dropping** `heart_attack` **from the original dataframe**"
   ]
  },
  {
   "cell_type": "code",
   "execution_count": null,
   "metadata": {},
   "outputs": [],
   "source": []
  },
  {
   "cell_type": "markdown",
   "metadata": {},
   "source": [
    "**3. Create the target vector** `y_I3` **from the column** `heart_attack`"
   ]
  },
  {
   "cell_type": "code",
   "execution_count": null,
   "metadata": {},
   "outputs": [],
   "source": []
  },
  {
   "cell_type": "markdown",
   "metadata": {},
   "source": [
    "**4. Use** `train_test_split` **to divide your data into** `X_train_I4`, `X_test_I4`, `y_train_I4`, `y_test_I4`\n",
    "\n",
    "**Add the parameter** `random_state=1` **to lock in the a particular random selection of rows.** "
   ]
  },
  {
   "cell_type": "code",
   "execution_count": null,
   "metadata": {},
   "outputs": [],
   "source": []
  },
  {
   "cell_type": "markdown",
   "metadata": {},
   "source": [
    "## II. Distance and Dimension"
   ]
  },
  {
   "cell_type": "markdown",
   "metadata": {},
   "source": [
    "### Warm Ups\n",
    "\n",
    "*Type the given code into the cell below*\n",
    "\n",
    "---"
   ]
  },
  {
   "cell_type": "markdown",
   "metadata": {},
   "source": [
    "**Take the square root:** `sqrt(16)`"
   ]
  },
  {
   "cell_type": "code",
   "execution_count": null,
   "metadata": {
    "tags": []
   },
   "outputs": [],
   "source": [
    "from math import sqrt\n",
    "print(sqrt(16))"
   ]
  },
  {
   "cell_type": "markdown",
   "metadata": {},
   "source": [
    "**Create column by applying function to rows:**  \n",
    "NOTE: The function you pass to `apply` *must* expect a row as its argument."
   ]
  },
  {
   "cell_type": "code",
   "execution_count": null,
   "metadata": {
    "tags": []
   },
   "outputs": [],
   "source": [
    "df.apply(sum, axis=1)"
   ]
  },
  {
   "cell_type": "markdown",
   "metadata": {},
   "source": [
    "**Sort dataframe by column values:** "
   ]
  },
  {
   "cell_type": "code",
   "execution_count": null,
   "metadata": {
    "tags": []
   },
   "outputs": [],
   "source": [
    "df.sort_values('age')"
   ]
  },
  {
   "cell_type": "markdown",
   "metadata": {},
   "source": [
    "### Exercises\n",
    "---\n",
    "\n",
    "![image](../images/coordinateplane.png)\n",
    "\n",
    "**1. Use the square root function,** `sqrt()`**, to find the distance between the two points.**\n",
    "\n",
    "*Hint: In two dimensions, the formula for distance is $\\sqrt{(x_0-x_1)^2 + (y_0 - y_1)^2}$*"
   ]
  },
  {
   "cell_type": "code",
   "execution_count": null,
   "metadata": {},
   "outputs": [],
   "source": []
  },
  {
   "cell_type": "markdown",
   "metadata": {},
   "source": [
    "![image](../images/threedimensions.jpeg)\n",
    "\n",
    "**2. Find the distance between the two points in three dimensions.**\n",
    "\n",
    "*Hint: In three dimensions, the formula for distance is $\\sqrt{(x_0-x_1)^2 + (y_0 - y_1)^2 + (z_0 - z_1)^2}$*"
   ]
  },
  {
   "cell_type": "code",
   "execution_count": null,
   "metadata": {},
   "outputs": [],
   "source": []
  },
  {
   "cell_type": "markdown",
   "metadata": {},
   "source": [
    "**3. Complete the function below, which finds the distance between two rows of data in 2D.**\n",
    "\n",
    "*Hint: In three dimensions, the formula for distance is $\\sqrt{(x_0-x_1)^2 + (y_0 - y_1)^2 + (z_0 - z_1)^2}$*"
   ]
  },
  {
   "cell_type": "code",
   "execution_count": null,
   "metadata": {},
   "outputs": [],
   "source": [
    "def calc_distance_2d(row1, row2):\n",
    "    \n",
    "    # define x_diff = difference between row1['x'] and row2['x']\n",
    "    \n",
    "    \n",
    "    # define y_diff = difference between row1['y'] and row2['y']\n",
    "    \n",
    "    \n",
    "    # define total = square x_diff and y_diff, add them together\n",
    "    \n",
    "    \n",
    "    # return the square root of total\n",
    "    return \n",
    "\n",
    "\n",
    "# Use the rows below to test your function!\n",
    "# Answer should be 37\n",
    "test_row_1 = pd.Series({'x': 10, 'y': -30})\n",
    "test_row_2 = pd.Series({'x': -2, 'y': 5})"
   ]
  },
  {
   "cell_type": "markdown",
   "metadata": {},
   "source": [
    "**4. Complete the function below, which finds the distance between two rows of data in ANY dimension.**"
   ]
  },
  {
   "cell_type": "code",
   "execution_count": null,
   "metadata": {
    "tags": [
     "skip-execution"
    ]
   },
   "outputs": [],
   "source": [
    "def calc_distance(row1, row2):\n",
    "    total = 0\n",
    "    for column in row1.index:\n",
    "        # Find the difference between row1 and row2 along this column\n",
    "        \n",
    "        # Square the difference, add it to total\n",
    "        \n",
    "    # Return the square root of total\n",
    "    return \n",
    "\n",
    "# Use the rows below to test your function!\n",
    "# Answer should be 15\n",
    "test_row_3 = pd.Series({'x': 10, 'y': -30, 'z':-1})\n",
    "test_row_4 = pd.Series({'x': 12, 'y': -20, 'z':10})"
   ]
  },
  {
   "cell_type": "markdown",
   "metadata": {},
   "source": [
    "**5. Here is a new row of data that we name** `new_patient_data`**. Write a new function** `distance_from_new` **which *uses*** `calc_distance` **to calculate the distance of a given row from** `new_patient_data`**.**"
   ]
  },
  {
   "cell_type": "code",
   "execution_count": 35,
   "metadata": {
    "tags": [
     "skip-execution"
    ]
   },
   "outputs": [],
   "source": [
    "new_patient_data = pd.Series({'male': 1, 'age': 34, 'education': 3,\n",
    "                              'current_smoker': 0, 'cigs_per_day': 0,\n",
    "                              'bp_meds': 0, 'prevalent_stroke': 0,\n",
    "                              'prevalent_hyp': 0, 'diabetes': 0,\n",
    "                              'tot_chol': 195000000.0, 'sys_bp': 121,\n",
    "                              'dia_bp': 75, 'diabetes': 0, 'bmi': 23,\n",
    "                              'heart_rate': 55, 'glucose': 77000000.0})\n",
    "\n",
    "def distance_from_new(row):\n",
    "    # Your code here."
   ]
  },
  {
   "cell_type": "markdown",
   "metadata": {},
   "source": [
    "**6. Create a variable** `distances` **which contains the distance between** `new_patient_data` **and each row in** `X_train_I4`**.**  \n",
    "Hint: Remember `df.apply` from the warmups. If you wanted a sum of columns for each row in `X_train_I4`, you would do\n",
    "```python\n",
    "X_train_I4.apply(sum, axis=1)\n",
    "```\n",
    "Now, consider what function you can use instead of `sum` to accomplish the goal specified here."
   ]
  },
  {
   "cell_type": "code",
   "execution_count": null,
   "metadata": {},
   "outputs": [],
   "source": []
  },
  {
   "cell_type": "markdown",
   "metadata": {},
   "source": [
    "**7. Finally, sort** `df` **according to** `distances`.\n",
    "\n",
    "*Hint 1:* You can sort a `pd.Series` similarly to how you sort a `pd.DataFrame`.  \n",
    "*Hint 2:* You can pull the indices of a `pd.Series` from the `Series`'s `.index` attribute. "
   ]
  },
  {
   "cell_type": "code",
   "execution_count": null,
   "metadata": {},
   "outputs": [],
   "source": []
  },
  {
   "cell_type": "markdown",
   "metadata": {},
   "source": [
    "### Extra Credit\n",
    "---\n",
    "**Create a function** `neighbors` **that takes a feature matrix and a new** `sample_row` **and returns the 5 rows of the feature matrix that are nearest to the** `sample_row`**.**  \n",
    "\n",
    "Run `neighbors` by passing `X_train_I4` as the `feature_matrix` and `new_patient_data` as the `sample_row`.\n",
    "\n",
    "*HINT: You wrote a function* `distance_from_new` *earlier. You made this specifically for distance from the variable* `new_patient_data`*. You'll need to make a new, similar function **inside*** `neighbors` *to calculate distance from the given* `sample_row`*.*"
   ]
  },
  {
   "cell_type": "code",
   "execution_count": null,
   "metadata": {
    "tags": [
     "skip-execution"
    ]
   },
   "outputs": [],
   "source": [
    "def neighbors(feature_matrix, sample_row):\n",
    "    # Your code here.\n",
    "    return closest_neighbors"
   ]
  },
  {
   "cell_type": "markdown",
   "metadata": {},
   "source": [
    "**Now build on your `neighbors` function to take a third parameter: the target vector corresponding to the feature matrix. Append to the `closest_neighbors` the rows of target vector that correspond to the nearest neighbors.**"
   ]
  },
  {
   "cell_type": "code",
   "execution_count": null,
   "metadata": {},
   "outputs": [],
   "source": [
    "def neighbors_final(feature_matrix, sample_row, target_vector):\n",
    "    # Your code here.\n",
    "    return closest_neighbors"
   ]
  },
  {
   "cell_type": "markdown",
   "metadata": {},
   "source": [
    "## III. Sci-Kit Learn and K-Nearest Neighbors"
   ]
  },
  {
   "cell_type": "markdown",
   "metadata": {},
   "source": [
    "### Warm Ups\n",
    "---"
   ]
  },
  {
   "cell_type": "code",
   "execution_count": null,
   "metadata": {
    "tags": []
   },
   "outputs": [],
   "source": [
    "X_train_IIIw, X_test_IIIw, y_train_IIIw, y_test_IIIw = train_test_split(\n",
    "    df.drop(columns=['heart_attack']), \n",
    "    df['heart_attack'], \n",
    "    random_state=1)\n"
   ]
  },
  {
   "cell_type": "markdown",
   "metadata": {},
   "source": [
    "**Create KNN Classifier, using 5 neighbors**: "
   ]
  },
  {
   "cell_type": "code",
   "execution_count": null,
   "metadata": {
    "tags": []
   },
   "outputs": [],
   "source": [
    "from sklearn.neighbors import KNeighborsClassifier\n",
    "model_IIIw = KNeighborsClassifier(5)"
   ]
  },
  {
   "cell_type": "markdown",
   "metadata": {},
   "source": [
    "**Fit model**:"
   ]
  },
  {
   "cell_type": "code",
   "execution_count": null,
   "metadata": {
    "tags": []
   },
   "outputs": [],
   "source": [
    "model_IIIw.fit(X_train_IIIw, y_train_IIIw)"
   ]
  },
  {
   "cell_type": "markdown",
   "metadata": {},
   "source": [
    "**Classify using model**:"
   ]
  },
  {
   "cell_type": "code",
   "execution_count": null,
   "metadata": {
    "tags": []
   },
   "outputs": [],
   "source": [
    "model_IIIw.predict(X_test_IIIw)"
   ]
  },
  {
   "cell_type": "markdown",
   "metadata": {},
   "source": [
    "**Assess the accuracy of the model**:"
   ]
  },
  {
   "cell_type": "code",
   "execution_count": null,
   "metadata": {
    "tags": []
   },
   "outputs": [],
   "source": [
    "model_IIIw.score(X_test_IIIw, y_test_IIIw)"
   ]
  },
  {
   "cell_type": "markdown",
   "metadata": {},
   "source": [
    "### Exercises\n",
    "---\n",
    "**1. Use the `neighbors` function from the previous section to find the 5 rows in** `X_train_IIIw` **that are the  nearest neighbors to** `X_test_IIIw.iloc[0]`.  "
   ]
  },
  {
   "cell_type": "code",
   "execution_count": null,
   "metadata": {},
   "outputs": [],
   "source": []
  },
  {
   "cell_type": "markdown",
   "metadata": {},
   "source": [
    "**2. The trained scikit-learn model relies on the SAME distance calculations.**\n",
    "\n",
    "**Call** `model.kneighbors([X_test_IIIw.iloc[0]])` **to get the distances and row numbers of the nearest neighbors.**\n",
    "\n",
    "**Call** `X_train_IIIw.iloc[]` **on the row numbers that come back. It should give you the same rows that we got using our own techniques from above** "
   ]
  },
  {
   "cell_type": "code",
   "execution_count": null,
   "metadata": {},
   "outputs": [],
   "source": []
  }
 ],
 "metadata": {
  "kernelspec": {
   "display_name": "Python 3 (ipykernel)",
   "language": "python",
   "name": "python3"
  },
  "language_info": {
   "codemirror_mode": {
    "name": "ipython",
    "version": 3
   },
   "file_extension": ".py",
   "mimetype": "text/x-python",
   "name": "python",
   "nbconvert_exporter": "python",
   "pygments_lexer": "ipython3",
   "version": "3.10.11"
  }
 },
 "nbformat": 4,
 "nbformat_minor": 4
}
