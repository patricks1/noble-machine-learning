{
 "cells": [
  {
   "cell_type": "markdown",
   "metadata": {},
   "source": [
    "# Python for Machine Learning\n",
    "\n",
    "### *Session \\#1*\n",
    "\n",
    "\n",
    "### Helpful shortcuts\n",
    "---\n",
    "\n",
    "**SHIFT** + **ENTER** ----> Execute Cell\n",
    "\n",
    "**UP/DOWN ARROWS** --> Move cursor between cells (then ENTER to start typing)\n",
    "\n",
    "**TAB** ----> See autocomplete options\n",
    "\n",
    "**ESC** then **b** ----> Create Cell \n",
    "\n",
    "**ESC** then **dd** ----> Delete Cell\n",
    "\n",
    "**\\[python expression\\]?** ---> Explanation of that Python expression\n",
    "\n",
    "**ESC** then **m** then __ENTER__ ----> Switch to Markdown mode"
   ]
  },
  {
   "cell_type": "markdown",
   "metadata": {},
   "source": [
    "# 0. Setup"
   ]
  },
  {
   "cell_type": "code",
   "execution_count": null,
   "metadata": {},
   "outputs": [],
   "source": [
    "#%conda install -c districtdatalabs yellowbrick\n",
    "#%conda install -c conda-forge imbalanced-learn\n",
    "#%conda install -c conda-forge tweepy"
   ]
  },
  {
   "cell_type": "markdown",
   "metadata": {},
   "source": [
    "## I. Preparing Data"
   ]
  },
  {
   "cell_type": "markdown",
   "metadata": {},
   "source": [
    "### Warm Ups\n",
    "\n",
    "*Type the given code into the cell below*\n",
    "\n",
    "---\n",
    "\n",
    "**Import pandas and read CSV**: "
   ]
  },
  {
   "cell_type": "code",
   "execution_count": null,
   "metadata": {
    "tags": []
   },
   "outputs": [],
   "source": [
    "import pandas as pd\n",
    "df = pd.read_csv(\"heart_attack.csv\")"
   ]
  },
  {
   "cell_type": "markdown",
   "metadata": {},
   "source": [
    "**Set target vector:**"
   ]
  },
  {
   "cell_type": "code",
   "execution_count": null,
   "metadata": {
    "tags": []
   },
   "outputs": [],
   "source": [
    "y_Iw = df['current_smoker']"
   ]
  },
  {
   "cell_type": "markdown",
   "metadata": {},
   "source": [
    "**Set feature matrix**"
   ]
  },
  {
   "cell_type": "code",
   "execution_count": null,
   "metadata": {
    "tags": []
   },
   "outputs": [],
   "source": [
    "columns_Iw = ['current_smoker', 'education']\n",
    "X_Iw = df[columns_Iw]"
   ]
  },
  {
   "cell_type": "markdown",
   "metadata": {},
   "source": [
    "**Drop column:**\n",
    "\n",
    "*Note: You can drop multiple columns at once, by using a list of column names*"
   ]
  },
  {
   "cell_type": "code",
   "execution_count": null,
   "metadata": {
    "tags": []
   },
   "outputs": [],
   "source": [
    "df.drop(columns=['heart_attack'])"
   ]
  },
  {
   "cell_type": "markdown",
   "metadata": {},
   "source": [
    "**Split data into train/test sets:**\n",
    "\n",
    "*Note: Default split is 0.75 train, 0.25 test. Can change proportion using* `test_size` *parameter*"
   ]
  },
  {
   "cell_type": "code",
   "execution_count": null,
   "metadata": {
    "tags": []
   },
   "outputs": [],
   "source": [
    "from sklearn.model_selection import train_test_split\n",
    "X_train_Iw, X_test_Iw, y_train_Iw, y_test_Iw = train_test_split(X_Iw, y_Iw)"
   ]
  },
  {
   "cell_type": "markdown",
   "metadata": {},
   "source": [
    "### Exercises\n",
    "---\n",
    "\n",
    "**1. Create the feature matrix** `X_I1` **by forming a dataframe from the columns** `male, current_smoker` **and**   `education` "
   ]
  },
  {
   "cell_type": "code",
   "execution_count": null,
   "metadata": {},
   "outputs": [],
   "source": []
  },
  {
   "cell_type": "markdown",
   "metadata": {},
   "source": [
    "**2. Now create the feature matrix** `X_I2` **by instead just dropping** `heart_attack` **from the original dataframe**"
   ]
  },
  {
   "cell_type": "code",
   "execution_count": null,
   "metadata": {},
   "outputs": [],
   "source": []
  },
  {
   "cell_type": "markdown",
   "metadata": {},
   "source": [
    "**3. Create the target vector** `y_I3` **from the column** `heart_attack`"
   ]
  },
  {
   "cell_type": "code",
   "execution_count": null,
   "metadata": {},
   "outputs": [],
   "source": []
  },
  {
   "cell_type": "markdown",
   "metadata": {},
   "source": [
    "**4. Use** `train_test_split` **to divide your data into** `X_train_I4`, `X_test_I4`, `y_train_I4`, `y_test_I4`\n",
    "\n",
    "**Add the parameter** `random_state=1` **to lock in the a particular random selection of rows.** "
   ]
  },
  {
   "cell_type": "code",
   "execution_count": null,
   "metadata": {},
   "outputs": [],
   "source": []
  },
  {
   "cell_type": "markdown",
   "metadata": {},
   "source": [
    "## II. Distance and Dimension"
   ]
  },
  {
   "cell_type": "markdown",
   "metadata": {},
   "source": [
    "### Warm Ups\n",
    "\n",
    "*Type the given code into the cell below*\n",
    "\n",
    "---"
   ]
  },
  {
   "cell_type": "markdown",
   "metadata": {},
   "source": [
    "**Take the square root:** `sqrt(16)`"
   ]
  },
  {
   "cell_type": "code",
   "execution_count": null,
   "metadata": {
    "tags": []
   },
   "outputs": [],
   "source": [
    "from math import sqrt\n",
    "print(sqrt(16))"
   ]
  },
  {
   "cell_type": "markdown",
   "metadata": {},
   "source": [
    "**Create column by applying function to rows:** "
   ]
  },
  {
   "cell_type": "code",
   "execution_count": null,
   "metadata": {
    "tags": []
   },
   "outputs": [],
   "source": [
    "df.apply(lambda row: row['age'] * 7, axis=1)"
   ]
  },
  {
   "cell_type": "markdown",
   "metadata": {},
   "source": [
    "**Sort dataframe by column values:** "
   ]
  },
  {
   "cell_type": "code",
   "execution_count": null,
   "metadata": {
    "tags": []
   },
   "outputs": [],
   "source": [
    "df.sort_values('age')"
   ]
  },
  {
   "cell_type": "markdown",
   "metadata": {},
   "source": [
    "### Exercises\n",
    "---\n",
    "\n",
    "![image](../images/coordinateplane.png)\n",
    "\n",
    "**1. Use the square root function,** `sqrt()`**, to find the distance between the two points.**\n",
    "\n",
    "*Hint: In two dimensions, the formula for distance is $\\sqrt{(x_0-x_1)^2 + (y_0 - y_1)^2}$*"
   ]
  },
  {
   "cell_type": "code",
   "execution_count": null,
   "metadata": {},
   "outputs": [],
   "source": []
  },
  {
   "cell_type": "markdown",
   "metadata": {},
   "source": [
    "![image](../images/threedimensions.jpeg)\n",
    "\n",
    "**2. Find the distance between the two points in three dimensions.**\n",
    "\n",
    "*Hint: In three dimensions, the formula for distance is $\\sqrt{(x_0-x_1)^2 + (y_0 - y_1)^2 + (z_0 - z_1)^2}$*"
   ]
  },
  {
   "cell_type": "code",
   "execution_count": null,
   "metadata": {},
   "outputs": [],
   "source": []
  },
  {
   "cell_type": "markdown",
   "metadata": {},
   "source": [
    "**3. Complete the function below, which finds the distance between two rows of data in 2D.**\n",
    "\n",
    "*Hint: In three dimensions, the formula for distance is $\\sqrt{(x_0-x_1)^2 + (y_0 - y_1)^2 + (z_0 - z_1)^2}$*"
   ]
  },
  {
   "cell_type": "code",
   "execution_count": null,
   "metadata": {},
   "outputs": [],
   "source": [
    "def calc_distance_2d(row1, row2):\n",
    "    \n",
    "    # define x_diff = difference between row1['x'] and row2['x']\n",
    "    \n",
    "    \n",
    "    # define y_diff = difference between row1['y'] and row2['y']\n",
    "    \n",
    "    \n",
    "    # define total = square x_diff and y_diff, add them together\n",
    "    \n",
    "    \n",
    "    # return the square root of total\n",
    "    return \n",
    "\n",
    "\n",
    "# Use the rows below to test your function!\n",
    "# Answer should be 37\n",
    "test_row_1 = pd.Series({'x': 10, 'y': -30})\n",
    "test_row_2 = pd.Series({'x': -2, 'y': 5})"
   ]
  },
  {
   "cell_type": "markdown",
   "metadata": {},
   "source": [
    "**4. Complete the function below, which finds the distance between two rows of data in ANY dimension.**"
   ]
  },
  {
   "cell_type": "code",
   "execution_count": null,
   "metadata": {},
   "outputs": [],
   "source": [
    "def calc_distance(row1, row2):\n",
    "    total = 0\n",
    "    for column in row1.index:\n",
    "        # Find the difference between row1, row2 along this column\n",
    "        \n",
    "        # Square the difference, add it to total\n",
    "        \n",
    "    # Return the square root of total\n",
    "    return \n",
    "\n",
    "# Use the rows below to test your function!\n",
    "# Answer should be 15\n",
    "test_row_3 = pd.Series({'x': 10, 'y': -30, 'z':-1})\n",
    "test_row_4 = pd.Series({'x': 12, 'y': -20, 'z':10})"
   ]
  },
  {
   "cell_type": "markdown",
   "metadata": {},
   "source": [
    "**5. Here is a new row of data that we name** `new_patient_data`. **Create a variable** `distances` **which contains the distance between** `new_patient_data` **and each row in** `X_train_I4`**.**\n",
    "\n",
    "**Finally, sort X_train according to** `distances`.\n",
    "\n",
    "Hint 1: You can sort a `pd.Series` similarly to how you sort a `pd.DataFrame`.  \n",
    "Hint 2: You can pull the indices of a `pd.Series` from the `Series`'s `.index` attribute. "
   ]
  },
  {
   "cell_type": "code",
   "execution_count": null,
   "metadata": {
    "tags": []
   },
   "outputs": [],
   "source": [
    "new_patient_data = pd.Series({'male': 1, 'age': 34, 'education': 3,\n",
    "                              'current_smoker': 0, 'cigs_per_day': 0,\n",
    "                              'bp_meds': 0, 'prevalent_stroke': 0,\n",
    "                              'prevalent_hyp': 0, 'diabetes': 0,\n",
    "                              'tot_chol': 195000000.0, 'sys_bp': 121,\n",
    "                              'dia_bp': 75, 'diabetes': 0, 'bmi': 23,\n",
    "                              'heart_rate': 55, 'glucose': 77000000.0})"
   ]
  },
  {
   "cell_type": "markdown",
   "metadata": {},
   "source": [
    "### Extra Credit\n",
    "---\n",
    "**Create a function** `neighbors` **that takes a `pd.DataFrame` and a new `sample_row`.**  \n",
    "Note that a feature matrix *is* a `pd.DataFrame`, even though it's not your original source `df`.\n",
    "\n",
    "`neighbors` **should return the 5 nearest rows inside the `pd.DataFrame` you provide**  \n",
    "Note that the `pd.DataFrame` you pass to `neighbors` must have columns corresponding to the indices of the row you pass to it.\n",
    "\n",
    "Run `neighbors` by passing `new_patient_data` as the argument for the `sample_row` paramenter."
   ]
  },
  {
   "cell_type": "code",
   "execution_count": null,
   "metadata": {},
   "outputs": [],
   "source": []
  },
  {
   "cell_type": "markdown",
   "metadata": {},
   "source": [
    "## III. Sci-Kit Learn and K-Nearest Neighbors"
   ]
  },
  {
   "cell_type": "markdown",
   "metadata": {},
   "source": [
    "### Warm Ups\n",
    "---"
   ]
  },
  {
   "cell_type": "code",
   "execution_count": null,
   "metadata": {
    "tags": []
   },
   "outputs": [],
   "source": [
    "X_train_IIIw, X_test_IIIw, y_train_IIIw, y_test_IIIw = train_test_split(\n",
    "    df.drop(columns=['heart_attack']), \n",
    "    df['heart_attack'], \n",
    "    random_state=1)\n"
   ]
  },
  {
   "cell_type": "markdown",
   "metadata": {},
   "source": [
    "**Create KNN Classifier, using 5 neighbors**: "
   ]
  },
  {
   "cell_type": "code",
   "execution_count": null,
   "metadata": {
    "tags": []
   },
   "outputs": [],
   "source": [
    "from sklearn.neighbors import KNeighborsClassifier\n",
    "model_IIIw = KNeighborsClassifier(5)"
   ]
  },
  {
   "cell_type": "markdown",
   "metadata": {},
   "source": [
    "**Fit model**:"
   ]
  },
  {
   "cell_type": "code",
   "execution_count": null,
   "metadata": {
    "tags": []
   },
   "outputs": [],
   "source": [
    "model_IIIw.fit(X_train_IIIw, y_train_IIIw)"
   ]
  },
  {
   "cell_type": "markdown",
   "metadata": {},
   "source": [
    "**Classify using model**:"
   ]
  },
  {
   "cell_type": "code",
   "execution_count": null,
   "metadata": {
    "tags": []
   },
   "outputs": [],
   "source": [
    "model_IIIw.predict(X_test_IIIw)"
   ]
  },
  {
   "cell_type": "markdown",
   "metadata": {},
   "source": [
    "**Assess the accuracy of the model**:"
   ]
  },
  {
   "cell_type": "code",
   "execution_count": null,
   "metadata": {
    "tags": []
   },
   "outputs": [],
   "source": [
    "model_IIIw.score(X_test_IIIw, y_test_IIIw)"
   ]
  },
  {
   "cell_type": "markdown",
   "metadata": {},
   "source": [
    "### Exercises\n",
    "---\n",
    "**1. Use the `neighbors` function from the previous section to find the 5 rows in** `X_train_IIIw` **that are the  nearest neighbors to** `new_patient_data`.  \n",
    "(This will probably give you the same result as in the Extra Credit for module II, but just in case something changed between your train-test split for module II and that for this module, let's run it again.)"
   ]
  },
  {
   "cell_type": "code",
   "execution_count": null,
   "metadata": {},
   "outputs": [],
   "source": []
  },
  {
   "cell_type": "markdown",
   "metadata": {},
   "source": [
    "**2. The trained scikit-learn model relies on the SAME distance calculations.**\n",
    "\n",
    "**Call** `model.kneighbors([new_patient_data])` **to get the distances and row numbers of the nearest neighbors.**\n",
    "\n",
    "**Call** `X_train_IIIw.iloc[]` **on the row numbers that come back. It should give you the same rows that we got using our own techniques from above** "
   ]
  },
  {
   "cell_type": "code",
   "execution_count": null,
   "metadata": {},
   "outputs": [],
   "source": []
  },
  {
   "cell_type": "markdown",
   "metadata": {},
   "source": [
    "**3. Some of our columns have MUCH larger numbers. These columns are overweighted when we calculate which rows are close.**\n",
    "\n",
    "**Drop the** `tot_chol` **and** `glucose` **columns from the feature matrix. Rerun** `train_test_split()` **and refit your model. What's the model's accuracy score now?** "
   ]
  },
  {
   "cell_type": "code",
   "execution_count": null,
   "metadata": {},
   "outputs": [],
   "source": []
  },
  {
   "cell_type": "markdown",
   "metadata": {},
   "source": [
    "**4. You can also use the** `scale()` **function to standardize the feature matrix before fitting the model.**\n",
    "\n",
    "**Rerun** `train_test_split()` **on the scaled version of your feature matrix and refit your model. What's the model's accuracy score now?** "
   ]
  },
  {
   "cell_type": "code",
   "execution_count": null,
   "metadata": {
    "tags": []
   },
   "outputs": [],
   "source": [
    "from sklearn.preprocessing import scale"
   ]
  }
 ],
 "metadata": {
  "kernelspec": {
   "display_name": "Python 3 (ipykernel)",
   "language": "python",
   "name": "python3"
  },
  "language_info": {
   "codemirror_mode": {
    "name": "ipython",
    "version": 3
   },
   "file_extension": ".py",
   "mimetype": "text/x-python",
   "name": "python",
   "nbconvert_exporter": "python",
   "pygments_lexer": "ipython3",
   "version": "3.10.11"
  }
 },
 "nbformat": 4,
 "nbformat_minor": 4
}
