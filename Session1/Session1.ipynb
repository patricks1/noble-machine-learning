{
 "cells": [
  {
   "cell_type": "markdown",
   "metadata": {},
   "source": [
    "# Python for Machine Learning\n",
    "\n",
    "### *Session \\#1*\n",
    "\n",
    "\n",
    "### Helpful shortcuts\n",
    "---\n",
    "\n",
    "**SHIFT** + **ENTER** ----> Execute Cell\n",
    "\n",
    "**UP/DOWN ARROWS** --> Move cursor between cells (then ENTER to start typing)\n",
    "\n",
    "**TAB** ----> See autocomplete options\n",
    "\n",
    "**ESC** then **b** ----> Create Cell \n",
    "\n",
    "**ESC** then **dd** ----> Delete Cell\n",
    "\n",
    "**\\[python expression\\]?** ---> Explanation of that Python expression\n",
    "\n",
    "**ESC** then **m** then __ENTER__ ----> Switch to Markdown mode"
   ]
  },
  {
   "cell_type": "markdown",
   "metadata": {},
   "source": [
    "# 0. Setup"
   ]
  },
  {
   "cell_type": "code",
   "execution_count": 1,
   "metadata": {},
   "outputs": [
    {
     "name": "stderr",
     "output_type": "stream",
     "text": [
      "ERROR:root:Line magic function `%conda` not found.\n",
      "ERROR:root:Line magic function `%conda` not found.\n",
      "ERROR:root:Line magic function `%conda` not found.\n"
     ]
    }
   ],
   "source": [
    "%conda install -c districtdatalabs yellowbrick\n",
    "%conda install -c conda-forge imbalanced-learn\n",
    "%conda install -c conda-forge tweepy"
   ]
  },
  {
   "cell_type": "markdown",
   "metadata": {},
   "source": [
    "## I. Preparing Data"
   ]
  },
  {
   "cell_type": "markdown",
   "metadata": {},
   "source": [
    "### Warm Ups\n",
    "\n",
    "*Type the given code into the cell below*\n",
    "\n",
    "---\n",
    "\n",
    "**Import pandas and read CSV**: \n",
    "```python\n",
    "import pandas as pd\n",
    "df = pd.read_csv(\"heart_attack.csv\")\n",
    "```"
   ]
  },
  {
   "cell_type": "code",
   "execution_count": 1,
   "metadata": {
    "collapsed": true
   },
   "outputs": [],
   "source": []
  },
  {
   "cell_type": "markdown",
   "metadata": {},
   "source": [
    "**Set target vector:** `y = df['current_smoker']`"
   ]
  },
  {
   "cell_type": "code",
   "execution_count": 3,
   "metadata": {
    "collapsed": true
   },
   "outputs": [],
   "source": []
  },
  {
   "cell_type": "markdown",
   "metadata": {},
   "source": [
    "**Set feature matrix**\n",
    "```python\n",
    "columns = ['current_smoker', 'education']\n",
    "X = df[columns]\n",
    "```"
   ]
  },
  {
   "cell_type": "code",
   "execution_count": null,
   "metadata": {
    "collapsed": true
   },
   "outputs": [],
   "source": []
  },
  {
   "cell_type": "markdown",
   "metadata": {},
   "source": [
    "**Drop column:** `df.drop(columns=['heart_attack'])`\n",
    "\n",
    "*Note: You can drop multiple columns at once, by using a list of column names*"
   ]
  },
  {
   "cell_type": "code",
   "execution_count": null,
   "metadata": {
    "collapsed": true
   },
   "outputs": [],
   "source": []
  },
  {
   "cell_type": "markdown",
   "metadata": {},
   "source": [
    "**Split data into train/test sets:**\n",
    "```python\n",
    "from sklearn.model_selection import train_test_split\n",
    "X_train, X_test, y_train, y_test = train_test_split(X, y)\n",
    "```\n",
    "\n",
    "*Note: Default split is 0.75 train, 0.25 test. Can change proportion using* `test_size` *parameter*"
   ]
  },
  {
   "cell_type": "code",
   "execution_count": 56,
   "metadata": {
    "collapsed": true
   },
   "outputs": [],
   "source": []
  },
  {
   "cell_type": "markdown",
   "metadata": {},
   "source": [
    "### Exercises\n",
    "---\n",
    "\n",
    "**1. Create the feature matrix** `X` **by forming a dataframe from the columns** `male, current_smoker` **and**   `education` "
   ]
  },
  {
   "cell_type": "code",
   "execution_count": null,
   "metadata": {
    "collapsed": true
   },
   "outputs": [],
   "source": []
  },
  {
   "cell_type": "markdown",
   "metadata": {},
   "source": [
    "**2. Now create the feature matrix** `X` **by instead just dropping** `heart_attack` **from the original dataframe**"
   ]
  },
  {
   "cell_type": "code",
   "execution_count": null,
   "metadata": {
    "collapsed": true
   },
   "outputs": [],
   "source": []
  },
  {
   "cell_type": "markdown",
   "metadata": {},
   "source": [
    "**3. Create the target vector** `y` **from the column** `heart_attack`"
   ]
  },
  {
   "cell_type": "code",
   "execution_count": null,
   "metadata": {
    "collapsed": true
   },
   "outputs": [],
   "source": []
  },
  {
   "cell_type": "markdown",
   "metadata": {},
   "source": [
    "**4. Use** `train_test_split` **to divide your data into** `X_train`, `X_test`, `y_train`, `y_test`\n",
    "\n",
    "**Add the parameter** `random_state=1` **to lock in the a particular random selection of rows.** "
   ]
  },
  {
   "cell_type": "code",
   "execution_count": 63,
   "metadata": {
    "collapsed": true
   },
   "outputs": [],
   "source": []
  },
  {
   "cell_type": "markdown",
   "metadata": {},
   "source": [
    "## II. Distance and Dimension"
   ]
  },
  {
   "cell_type": "markdown",
   "metadata": {},
   "source": [
    "### Warm Ups\n",
    "\n",
    "*Type the given code into the cell below*\n",
    "\n",
    "---"
   ]
  },
  {
   "cell_type": "markdown",
   "metadata": {},
   "source": [
    "**Take the square root:** `sqrt(16)`"
   ]
  },
  {
   "cell_type": "code",
   "execution_count": 37,
   "metadata": {
    "collapsed": true
   },
   "outputs": [],
   "source": [
    "from math import sqrt"
   ]
  },
  {
   "cell_type": "markdown",
   "metadata": {},
   "source": [
    "**Create column by applying function to rows:** \n",
    "```python \n",
    "df.apply(lambda row: row['age'] * 7, axis=1)\n",
    "```"
   ]
  },
  {
   "cell_type": "code",
   "execution_count": null,
   "metadata": {
    "collapsed": true
   },
   "outputs": [],
   "source": []
  },
  {
   "cell_type": "markdown",
   "metadata": {},
   "source": [
    "**Sort dataframe by column values:** \n",
    "```python \n",
    "df.sort_values('age')\n",
    "```"
   ]
  },
  {
   "cell_type": "code",
   "execution_count": null,
   "metadata": {
    "collapsed": true
   },
   "outputs": [],
   "source": []
  },
  {
   "cell_type": "markdown",
   "metadata": {},
   "source": [
    "### Exercises\n",
    "---\n",
    "\n",
    "![image](../images/coordinateplane.png)\n",
    "\n",
    "**1. Use the square root function,** `sqrt()`**, to find the distance between the two points.**\n",
    "\n",
    "*Hint: In two dimensions, the formula for distance is $\\sqrt{(x_0-x_1)^2 + (y_0 - y_1)^2}$*"
   ]
  },
  {
   "cell_type": "code",
   "execution_count": null,
   "metadata": {
    "collapsed": true
   },
   "outputs": [],
   "source": []
  },
  {
   "cell_type": "markdown",
   "metadata": {},
   "source": [
    "![image](../images/threedimensions.jpeg)\n",
    "\n",
    "**2. Find the distance between the two points in three dimensions.**\n",
    "\n",
    "*Hint: In three dimensions, the formula for distance is $\\sqrt{(x_0-x_1)^2 + (y_0 - y_1)^2 + (z_0 - z_1)^2}$*"
   ]
  },
  {
   "cell_type": "code",
   "execution_count": null,
   "metadata": {
    "collapsed": true
   },
   "outputs": [],
   "source": []
  },
  {
   "cell_type": "markdown",
   "metadata": {},
   "source": [
    "**3. Complete the function below, which finds the distance between two rows of data in 2D.**\n",
    "\n",
    "*Hint: In three dimensions, the formula for distance is $\\sqrt{(x_0-x_1)^2 + (y_0 - y_1)^2 + (z_0 - z_1)^2}$*"
   ]
  },
  {
   "cell_type": "code",
   "execution_count": null,
   "metadata": {
    "collapsed": true
   },
   "outputs": [],
   "source": [
    "def distance_2d(row1, row2):\n",
    "    \n",
    "    # define x_diff = difference between row1['x'] and row2['x']\n",
    "    \n",
    "    \n",
    "    # define y_diff = difference between row1['y'] and row2['y']\n",
    "    \n",
    "    \n",
    "    # define total = square x_diff and y_diff, add them together\n",
    "    \n",
    "    \n",
    "    # return the square root of total\n",
    "    return \n",
    "\n",
    "\n",
    "# Use the rows below to test your function!\n",
    "# Answer should be 37\n",
    "test_row_1 = pd.Series({'x': 10, 'y': -30})\n",
    "test_row_2 = pd.Series({'x': -2, 'y': 5})"
   ]
  },
  {
   "cell_type": "markdown",
   "metadata": {},
   "source": [
    "**4. Complete the function below, which finds the distance between two rows of data in ANY dimension.**"
   ]
  },
  {
   "cell_type": "code",
   "execution_count": null,
   "metadata": {
    "collapsed": true
   },
   "outputs": [],
   "source": [
    "def distance(row1, row2):\n",
    "    total = 0\n",
    "    for column in row1.index:\n",
    "        # Find the difference between row1, row2 along this column\n",
    "        \n",
    "        # Square the difference, add it to total\n",
    "        \n",
    "    # Return the square root of total\n",
    "    return \n",
    "\n",
    "# Use the rows below to test your function!\n",
    "# Answer should be 15\n",
    "test_row_3 = pd.Series({'x': 10, 'y': -30, 'z':-1})\n",
    "test_row_4 = pd.Series({'x': 12, 'y': -20, 'z':10})"
   ]
  },
  {
   "cell_type": "markdown",
   "metadata": {},
   "source": [
    "**5. Here is a** `new_row`. **Add a column** `distance` **to X_train, which shows the distance between** `new_row` **and each row in X_train.**\n",
    "\n",
    "**Finally, sort X_train according to** `distance`"
   ]
  },
  {
   "cell_type": "code",
   "execution_count": null,
   "metadata": {
    "collapsed": true
   },
   "outputs": [],
   "source": [
    "new_row = df.iloc[1] * 1.2\n",
    "\n",
    "# Create a new column `distance` based on how far each row is from the new datapoint\n",
    "\n",
    "# sort the dataframe according to distance\n"
   ]
  },
  {
   "cell_type": "markdown",
   "metadata": {},
   "source": [
    "### Extra Credit\n",
    "---\n",
    "**Create a function** `neighbors` **that takes a dataframe and a new row.** \n",
    "\n",
    "**It should return the 5 nearest rows inside the dataframe**"
   ]
  },
  {
   "cell_type": "code",
   "execution_count": null,
   "metadata": {
    "collapsed": true
   },
   "outputs": [],
   "source": []
  },
  {
   "cell_type": "markdown",
   "metadata": {},
   "source": [
    "## III. Sci-Kit Learn and K-Nearest Neighbors"
   ]
  },
  {
   "cell_type": "markdown",
   "metadata": {},
   "source": [
    "### Warm Ups\n",
    "\n",
    "*Type the given code into the cell below*\n",
    "\n",
    "---"
   ]
  },
  {
   "cell_type": "code",
   "execution_count": 160,
   "metadata": {
    "collapsed": true
   },
   "outputs": [],
   "source": [
    "# Run to reset data\n",
    "\n",
    "X = df.drop(columns=['heart_attack'])\n",
    "y = df['heart_attack']\n",
    "X_train, X_test, y_train, y_test = train_test_split(X, y, random_state=1)\n",
    "\n",
    "new_row = X_train.iloc[1] * 1.2"
   ]
  },
  {
   "cell_type": "markdown",
   "metadata": {},
   "source": [
    "**Create KNN Classifier, using 5 neighbors**: \n",
    "```python\n",
    "from sklearn.neighbors import KNeighborsClassifier\n",
    "model = KNeighborsClassifier(5)\n",
    "```"
   ]
  },
  {
   "cell_type": "code",
   "execution_count": null,
   "metadata": {
    "collapsed": true
   },
   "outputs": [],
   "source": []
  },
  {
   "cell_type": "markdown",
   "metadata": {},
   "source": [
    "**Fit model**: `model.fit(X_train, y_train)`"
   ]
  },
  {
   "cell_type": "code",
   "execution_count": null,
   "metadata": {
    "collapsed": true
   },
   "outputs": [],
   "source": []
  },
  {
   "cell_type": "markdown",
   "metadata": {},
   "source": [
    "**Classify using model**: `model.predict(X_test)`"
   ]
  },
  {
   "cell_type": "code",
   "execution_count": null,
   "metadata": {
    "collapsed": true
   },
   "outputs": [],
   "source": []
  },
  {
   "cell_type": "markdown",
   "metadata": {},
   "source": [
    "**Assess the accuracy of the model**: `model.score(X_test, y_test)`"
   ]
  },
  {
   "cell_type": "code",
   "execution_count": null,
   "metadata": {
    "collapsed": true
   },
   "outputs": [],
   "source": []
  },
  {
   "cell_type": "markdown",
   "metadata": {},
   "source": [
    "### Exercises\n",
    "---\n",
    "**1. Here is a new row. Use the techniques from the previous section to find the 5 rows that are its nearest neighbors.**"
   ]
  },
  {
   "cell_type": "code",
   "execution_count": null,
   "metadata": {
    "collapsed": true
   },
   "outputs": [],
   "source": [
    "new_row = X_train.iloc[1] * 1.2"
   ]
  },
  {
   "cell_type": "markdown",
   "metadata": {},
   "source": [
    "**2. The trained scikit-learn model relies on the SAME distance calculations.**\n",
    "\n",
    "**Call** `model.kneighbors([new_row])` **to get the distances and row numbers of the nearest neighbors.**\n",
    "\n",
    "**Call** `X_train.iloc[]` **on the row numbers that come back. It should give you the same rows that we got using our own techniques from above** "
   ]
  },
  {
   "cell_type": "code",
   "execution_count": null,
   "metadata": {
    "collapsed": true
   },
   "outputs": [],
   "source": []
  },
  {
   "cell_type": "markdown",
   "metadata": {},
   "source": [
    "**3. Some of our columns have MUCH larger numbers. These columns are overweighted when we calculate which rows are close.**\n",
    "\n",
    "**Drop the** `tot_chol` **and** `glucose` **columns from the feature matrix. Rerun** `train_test_split()` **and refit your model. What's the model's accuracy score now?** "
   ]
  },
  {
   "cell_type": "code",
   "execution_count": null,
   "metadata": {
    "collapsed": true
   },
   "outputs": [],
   "source": []
  },
  {
   "cell_type": "markdown",
   "metadata": {},
   "source": [
    "**4. You can also use the** `scale()` **function to standardize the feature matrix before fitting the model.**\n",
    "\n",
    "**Rerun** `train_test_split()` **on the scaled version of your feature matrix and refit your model. What's the model's accuracy score now?** "
   ]
  },
  {
   "cell_type": "code",
   "execution_count": 326,
   "metadata": {
    "collapsed": true
   },
   "outputs": [],
   "source": [
    "from sklearn.preprocessing import scale"
   ]
  }
 ],
 "metadata": {
  "kernelspec": {
   "display_name": "Python 3",
   "language": "python",
   "name": "python3"
  },
  "language_info": {
   "codemirror_mode": {
    "name": "ipython",
    "version": 3
   },
   "file_extension": ".py",
   "mimetype": "text/x-python",
   "name": "python",
   "nbconvert_exporter": "python",
   "pygments_lexer": "ipython3",
   "version": "3.8.4"
  }
 },
 "nbformat": 4,
 "nbformat_minor": 2
}
